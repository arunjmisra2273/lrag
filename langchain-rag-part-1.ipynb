{
 "cells": [
  {
   "cell_type": "markdown",
   "id": "e134e914",
   "metadata": {},
   "source": [
    "Langchain RAG Part 1"
   ]
  },
  {
   "cell_type": "code",
   "execution_count": 225,
   "id": "204f8f05",
   "metadata": {},
   "outputs": [],
   "source": [
    "# Import Dependencies\n",
    "import os\n",
    "from dotenv import load_dotenv\n",
    "from langchain_groq import ChatGroq\n",
    "from langchain_core.output_parsers import StrOutputParser\n",
    "from typing import List\n",
    "from pydantic import BaseModel, Field\n",
    "from langchain_core.prompts import ChatPromptTemplate\n",
    "from langchain_core.messages import SystemMessage, HumanMessage"
   ]
  },
  {
   "cell_type": "code",
   "execution_count": 201,
   "id": "3cc9c6dd",
   "metadata": {},
   "outputs": [
    {
     "data": {
      "text/plain": [
       "True"
      ]
     },
     "execution_count": 201,
     "metadata": {},
     "output_type": "execute_result"
    }
   ],
   "source": [
    "# Load environment variables from .env file\n",
    "load_dotenv()"
   ]
  },
  {
   "cell_type": "code",
   "execution_count": 174,
   "id": "5f5e944c",
   "metadata": {},
   "outputs": [
    {
     "name": "stdout",
     "output_type": "stream",
     "text": [
      "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\n"
     ]
    }
   ],
   "source": [
    "# Get the GROQ API key from the environment variable\n",
    "GROQ_API_KEY = os.getenv(\"GROQ_API_KEY\")\n",
    "print(GROQ_API_KEY)"
   ]
  },
  {
   "cell_type": "code",
   "execution_count": 175,
   "id": "de5d0ed3",
   "metadata": {},
   "outputs": [],
   "source": [
    "# Set the GROQ API Key in the environment\n",
    "os.environ[\"GROQ_API_KEY\"] = GROQ_API_KEY"
   ]
  },
  {
   "cell_type": "code",
   "execution_count": null,
   "id": "7c2f426a",
   "metadata": {},
   "outputs": [],
   "source": [
    "# Initialize the ChatGroq model\n",
    "llm = ChatGroq(\n",
    "    model=\"llama-3.1-8b-instant\",\n",
    "    temperature=0,\n",
    "    max_tokens=None,\n",
    "    timeout=None,\n",
    "    max_retries=2,\n",
    "    # other params...\n",
    ")"
   ]
  },
  {
   "cell_type": "markdown",
   "id": "98a66d3a",
   "metadata": {},
   "source": [
    "Output Parser"
   ]
  },
  {
   "cell_type": "code",
   "execution_count": 209,
   "id": "7bb1d6c6",
   "metadata": {},
   "outputs": [],
   "source": [
    "# Define output parser\n",
    "output_parser = StrOutputParser()"
   ]
  },
  {
   "cell_type": "markdown",
   "id": "8a5dff09",
   "metadata": {},
   "source": [
    "Simple Chain"
   ]
  },
  {
   "cell_type": "code",
   "execution_count": 210,
   "id": "2092ac58",
   "metadata": {},
   "outputs": [],
   "source": [
    "chain = llm | output_parser"
   ]
  },
  {
   "cell_type": "code",
   "execution_count": 232,
   "id": "010d3ca5",
   "metadata": {},
   "outputs": [
    {
     "name": "stdout",
     "output_type": "stream",
     "text": [
      "Response from Groq LLM: The capital of France is Paris.\n"
     ]
    }
   ],
   "source": [
    "# Test the chain with a sample prompt\n",
    "# Sample prompt\n",
    "prompt = \"What is the capital of France?\"\n",
    "\n",
    "# Get the response from the Groq LLM\n",
    "response = chain.invoke(prompt)\n",
    "\n",
    "# Print the response\n",
    "print(f\"Response from Groq LLM: {groq_response}\")"
   ]
  },
  {
   "cell_type": "markdown",
   "id": "0eac6c49",
   "metadata": {},
   "source": [
    "Structured Output"
   ]
  },
  {
   "cell_type": "code",
   "execution_count": 214,
   "id": "8137dae0",
   "metadata": {},
   "outputs": [],
   "source": [
    "review_text = \"\"\"\n",
    "Finding a solid smartphone under Rs 20,000 is getting both easier and harder at the same time. Easier because there are plenty of feature-packed options out there, and harder because choosing the right one from the crowd is no easy task. Brands are stepping up their game with impressive displays, capable cameras, and big batteries, all without pushing the price tag too high.\n",
    "\n",
    "Oppo’s latest bet in this segment is the K13 5G, which is priced starting at Rs 17,999. With its elegant design and a massive 7000mAh battery, it definitely makes a strong first impression. But how well does it actually perform in day-to-day use?\n",
    "\n",
    "I put the Oppo K13 5G through its paces over the past few days, and here’s my full review covering everything from design and display to performance, camera, and battery life.\n",
    "\n",
    "There are two colours of the Oppo K13 5G smartphone: Icy Purple and Prism Black. I got the Icy Purple for review, and personally, I love the shade of purple it has. It’s soft and subtle, and has a matte finish that gives the phone a clean and classy vibe.\n",
    "\n",
    "The back panel has a geometric pattern which is not loud or flashy. It adds just the right amount of elegance. The back panel doesn’t attract fingerprints at all, which is definitely a win in my books.\n",
    "\n",
    "The dual-camera setup is housed in a rectangular module with slightly rounded corners, along with the LED flash. There’s a slight camera bump, but it doesn’t make the phone wobble on flat surfaces. The device is also lightweight and feels comfortable to use one-handed. Overall, I like what Oppo has done here. \n",
    "\n",
    "The Oppo K13 features a 6.67-inch FHD+ AMOLED display with a 120Hz refresh rate. It offers everything you’d expect from a quality AMOLED screen, sharp visuals and vibrant colours.\n",
    "\n",
    "In our display tests, the screen hit a peak brightness of 1710 nits in auto mode. This means it’s capable of staying visible even under direct sunlight.\n",
    "\n",
    "Using Calman and the Spectracal C6 Colourimeter, we tested the colour accuracy of the display. In the Professional colour profile, the Oppo K13 achieved an average Delta E of 1.6, indicating good colours that make watching content a treat. Whether you’re streaming YouTube or bingeing shows on your favourite OTT apps, the experience is smooth and visually pleasing.\n",
    "\n",
    "It’s worth noting that in the Natural colour profile, the screen leans slightly towards cooler, bluish tones, but it’s nothing too distracting and doesn’t hamper the viewing experience. You can configure it to account for slightly warmer tones in the display settings.\n",
    "\n",
    "Now, let’s talk about performance. The Oppo K13 5G is powered by the Qualcomm Snapdragon 6 Gen 4 chipset. In real-world usage, the phone performs quite well. I didn’t feel any lag while doing day-to-day stuff like texting, scrolling through Instagram, watching YouTube videos, or switching between multiple apps.\n",
    "\n",
    "When it comes to gaming, casual titles like Temple Run ran smoothly without any issues. I also tried BGMI, and it supports 60fps, which is not bad at all for a budget phone. The gameplay was fairly smooth, and I didn’t experience any major frame drops or heating during short sessions.\n",
    "\n",
    "Well, this was all my personal experience. Now, let’s talk numbers. The Oppo K13 5G scored 7,14,193 on AnTuTu, 985 in Geekbench single-core, and 3128 in multi-core. These benchmark scores give tough competition to other phones in the same price range.\n",
    "\n",
    "In short, the K13 5G handles everyday tasks and casual gaming with ease. It’s a dependable performer that gets the job done without complaints.\n",
    "\n",
    "The Oppo K13 5G comes with a dual camera setup on the back, featuring a 50-megapixel main sensor and a 2-megapixel depth sensor. On the front, there’s a 16-megapixel camera for selfies. Now, let’s talk about how it performs in real life. Now, I wouldn’t call the camera perfect, but it’s definitely not bad either.\n",
    "\n",
    "For a budget phone, it actually does a good job. The main camera captures good detail in daylight shots. However, I did notice that the images tend to have slightly deeper blacks. It adds contrast, sure, but if you’re someone who prefers more balanced tones, you might notice this more than others. That said, low-light performance was surprisingly decent and the colours come out well.\n",
    "\n",
    "The same goes for selfies. The front camera captures decent details and tones, and the skin tones actually look quite natural. In short, for its price, the Oppo K13 5G captures pretty decent pictures.\n",
    "\n",
    "When I first got the Oppo K13 5G, I was honestly impressed with the battery specs. I mean, a 7000mAh battery in a budget phone? That’s massive. But, well, in reality, it wasn’t as impressive as I expected. In the PCMark battery test, the phone lasted just 13 hours and 48 minutes. That’s actually lower than what some phones with 6000mAh batteries manage to pull off in this particular test. Maybe it’s because of the poor optimisation, and maybe Oppo can fix it in the future by rolling out an OTA update.\n",
    "\n",
    "That said, in real-life usage, it still performs well. With casual use: scrolling, streaming, and camera usage, it easily lasted me around 1.5 days on a single charge, which is expected from such a large battery pack.\n",
    "\n",
    "To get more specific, the battery dropped just 4% during 30 minutes of video streaming, which is impressive. And you know how apps like Google Maps can drain the battery quickly, well, on the Oppo K13 5G, using Maps for an hour took only 4% of the charge. And that’s actually great.\n",
    "\n",
    "So while the PCMark score wasn’t the best, in daily life, the battery holds up just fine.\n",
    "\n",
    "After spending a week with the Oppo K13 5G, I’d say it’s a pretty well-rounded phone for its price. It nails the basics with smooth performance, a vibrant AMOLED display, and a design that honestly looks more premium than what you’d expect in this range. But that purple matte finish won me over.\n",
    "\n",
    "The camera performance won’t blow you away, but it’s perfectly capable for everyday photography. The battery life is good. But considering the size, I expected more. \n",
    "\n",
    "All in all, the Oppo K13 5G delivers a reliable experience. If you’re looking for a phone that looks good, handles your daily tasks without fuss, and gives you decent battery life under a budget, this one’s worth considering.\n",
    "\"\"\""
   ]
  },
  {
   "cell_type": "code",
   "execution_count": 215,
   "id": "704dc350",
   "metadata": {},
   "outputs": [],
   "source": [
    "class MobileReview(BaseModel):\n",
    "    phone_model: str = Field(description=\"Name and model of the mobile phone\")\n",
    "    rating: float = Field(description=\"Rating of the mobile phone out of 5\")\n",
    "    pros: List[str] = Field(description=\"List of positive aspects of the mobile phone\")\n",
    "    cons: List[str] = Field(description=\"List of negative aspects of the mobile phone\")\n",
    "    summary: str = Field(description=\"Brief summary of the review\")"
   ]
  },
  {
   "cell_type": "code",
   "execution_count": 216,
   "id": "808165ce",
   "metadata": {},
   "outputs": [
    {
     "name": "stdout",
     "output_type": "stream",
     "text": [
      "Structured Output: phone_model='Oppo K13 5G' rating=4.0 pros=['Elegant design', 'Vibrant AMOLED display', 'Smooth performance', 'Decent camera performance', 'Good battery life'] cons=['Camera performance not perfect', 'Battery life not as expected'] summary='The Oppo K13 5G is a well-rounded phone for its price, delivering a reliable experience with smooth performance, a vibrant display, and decent camera performance. However, the camera performance is not perfect, and the battery life could be better.'\n"
     ]
    }
   ],
   "source": [
    "structured_llm = llm.with_structured_output(MobileReview)\n",
    "output = structured_llm.invoke(review_text)\n",
    "print(f\"Structured Output: {output}\")"
   ]
  },
  {
   "cell_type": "code",
   "execution_count": 217,
   "id": "ef4b5091",
   "metadata": {},
   "outputs": [
    {
     "data": {
      "text/plain": [
       "['Elegant design',\n",
       " 'Vibrant AMOLED display',\n",
       " 'Smooth performance',\n",
       " 'Decent camera performance',\n",
       " 'Good battery life']"
      ]
     },
     "execution_count": 217,
     "metadata": {},
     "output_type": "execute_result"
    }
   ],
   "source": [
    "output.pros"
   ]
  },
  {
   "cell_type": "markdown",
   "id": "acd4473b",
   "metadata": {},
   "source": [
    "Prompt Template"
   ]
  },
  {
   "cell_type": "code",
   "execution_count": 222,
   "id": "136b879d",
   "metadata": {},
   "outputs": [
    {
     "data": {
      "text/plain": [
       "ChatPromptValue(messages=[HumanMessage(content='Tell me a short joke about cats', additional_kwargs={}, response_metadata={})])"
      ]
     },
     "execution_count": 222,
     "metadata": {},
     "output_type": "execute_result"
    }
   ],
   "source": [
    "prompt = ChatPromptTemplate.from_template(\n",
    "    \"Tell me a short joke about {topic}\"\n",
    ")\n",
    "prompt.invoke({\"topic\": \"cats\"})"
   ]
  },
  {
   "cell_type": "code",
   "execution_count": 223,
   "id": "ca44a5e5",
   "metadata": {},
   "outputs": [
    {
     "data": {
      "text/plain": [
       "'Why did the cat join a band? \\n\\nBecause it wanted to be the purr-cussionist.'"
      ]
     },
     "execution_count": 223,
     "metadata": {},
     "output_type": "execute_result"
    }
   ],
   "source": [
    "chain = prompt | llm | output_parser\n",
    "chain.invoke({\"topic\": \"cats\"})"
   ]
  },
  {
   "cell_type": "markdown",
   "id": "92e7b5b7",
   "metadata": {},
   "source": [
    "LLM Messages"
   ]
  },
  {
   "cell_type": "code",
   "execution_count": 226,
   "id": "dd152790",
   "metadata": {},
   "outputs": [
    {
     "data": {
      "text/plain": [
       "AIMessage(content=\"The iPhone 14 Pro is a high-end smartphone released by Apple in 2022. Some of its best features include:\\n\\n1. **Super Retina XDR Display**: The iPhone 14 Pro features a 6.1-inch Super Retina XDR display with a 120Hz refresh rate, making it ideal for gaming and video streaming.\\n\\n2. **A16 Bionic Chip**: The iPhone 14 Pro is powered by Apple's A16 Bionic chip, which provides a significant boost in performance and efficiency compared to its predecessor.\\n\\n3. **Quad-Camera Setup**: The iPhone 14 Pro features a quad-camera setup, including a 48MP primary sensor, a 12MP front camera, a 12MP telephoto lens, and a 12MP ultra-wide-angle lens. This setup allows for advanced features like 48MP photos, 12MP telephoto zoom, and a 12MP ultra-wide-angle lens.\\n\\n4. **Night Mode and Portrait Mode**: The iPhone 14 Pro's quad-camera setup also includes advanced features like Night mode and Portrait mode, which allow for stunning low-light photos and professional-looking portraits.\\n\\n5. **Long-Lasting Battery Life**: The iPhone 14 Pro has a long-lasting battery life, with up to 23 hours of video playback and up to 50 hours of audio playback.\\n\\n6. **Fast Charging**: The iPhone 14 Pro supports fast charging, which can charge the battery up to 50% in just 30 minutes.\\n\\n7. **Water Resistance**: The iPhone 14 Pro has a rating of IP68, which means it can withstand being submerged in water up to 4 meters for up to 30 minutes.\\n\\n8. **Face ID**: The iPhone 14 Pro features Face ID, a secure facial recognition system that allows for easy and secure unlocking of the device.\\n\\n9. **iOS 16**: The iPhone 14 Pro comes with iOS 16 pre-installed, which offers a range of new features and improvements, including a redesigned lock screen, improved notifications, and enhanced security.\\n\\n10. **5G Connectivity**: The iPhone 14 Pro supports 5G connectivity, which provides fast data speeds and low latency.\\n\\nOverall, the iPhone 14 Pro is a powerful and feature-rich smartphone that offers a range of advanced features and capabilities.\", additional_kwargs={}, response_metadata={'token_usage': {'completion_tokens': 469, 'prompt_tokens': 59, 'total_tokens': 528, 'completion_time': 0.625333333, 'prompt_time': 0.003983902, 'queue_time': 0.135582329, 'total_time': 0.629317235}, 'model_name': 'llama-3.1-8b-instant', 'system_fingerprint': 'fp_f7bd09b454', 'finish_reason': 'stop', 'logprobs': None}, id='run-a92e2c93-985d-4f48-b4fd-fbafd8ebc43f-0', usage_metadata={'input_tokens': 59, 'output_tokens': 469, 'total_tokens': 528})"
      ]
     },
     "execution_count": 226,
     "metadata": {},
     "output_type": "execute_result"
    }
   ],
   "source": [
    "system_message = SystemMessage(\n",
    "    content=\"You are a helpful assistant that provides information about mobile phones.\"\n",
    ")\n",
    "human_message = HumanMessage(\n",
    "    content=\"What are the best features of the iPhone 14 Pro?\"\n",
    ")\n",
    "llm.invoke([system_message, human_message])"
   ]
  },
  {
   "cell_type": "code",
   "execution_count": 229,
   "id": "8c1c523e",
   "metadata": {},
   "outputs": [
    {
     "data": {
      "text/plain": [
       "ChatPromptValue(messages=[SystemMessage(content='You are a helpful assistant that tells jokes.', additional_kwargs={}, response_metadata={}), HumanMessage(content='Tell me a joke about cats', additional_kwargs={}, response_metadata={})])"
      ]
     },
     "execution_count": 229,
     "metadata": {},
     "output_type": "execute_result"
    }
   ],
   "source": [
    "template = ChatPromptTemplate([\n",
    "    (\"system\", \"You are a helpful assistant that tells jokes.\"),\n",
    "    (\"human\", \"Tell me a joke about {topic}\"),\n",
    "])\n",
    "prompt_value = template.invoke({\"topic\": \"cats\"})\n",
    "prompt_value"
   ]
  },
  {
   "cell_type": "code",
   "execution_count": 230,
   "id": "7220b215",
   "metadata": {},
   "outputs": [
    {
     "data": {
      "text/plain": [
       "AIMessage(content='Why did the cat join a band? \\n\\nBecause it wanted to be the purr-cussionist.', additional_kwargs={}, response_metadata={'token_usage': {'completion_tokens': 22, 'prompt_tokens': 50, 'total_tokens': 72, 'completion_time': 0.029333333, 'prompt_time': 0.009857387, 'queue_time': 0.08400967000000001, 'total_time': 0.03919072}, 'model_name': 'llama-3.1-8b-instant', 'system_fingerprint': 'fp_8d1c73bd4c', 'finish_reason': 'stop', 'logprobs': None}, id='run-d50f15d5-b9e7-4413-aaf2-6afaa63aa448-0', usage_metadata={'input_tokens': 50, 'output_tokens': 22, 'total_tokens': 72})"
      ]
     },
     "execution_count": 230,
     "metadata": {},
     "output_type": "execute_result"
    }
   ],
   "source": [
    "llm.invoke(prompt_value)"
   ]
  }
 ],
 "metadata": {
  "kernelspec": {
   "display_name": "venv",
   "language": "python",
   "name": "python3"
  },
  "language_info": {
   "codemirror_mode": {
    "name": "ipython",
    "version": 3
   },
   "file_extension": ".py",
   "mimetype": "text/x-python",
   "name": "python",
   "nbconvert_exporter": "python",
   "pygments_lexer": "ipython3",
   "version": "3.11.0"
  }
 },
 "nbformat": 4,
 "nbformat_minor": 5
}
