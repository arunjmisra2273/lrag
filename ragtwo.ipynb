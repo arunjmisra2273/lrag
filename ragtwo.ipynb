{
 "cells": [
  {
   "cell_type": "markdown",
   "id": "34b03f33",
   "metadata": {},
   "source": [
    "RAG TWO SINGLE DOCUMENT - Load and Split"
   ]
  },
  {
   "cell_type": "code",
   "execution_count": 120,
   "id": "cc2b62d0",
   "metadata": {},
   "outputs": [],
   "source": [
    "# Import Dependencies\n",
    "import os\n",
    "from dotenv import load_dotenv\n",
    "from langchain_community.document_loaders import PyPDFLoader, Docx2txtLoader\n",
    "from langchain_text_splitters import RecursiveCharacterTextSplitter\n",
    "from langchain_huggingface import HuggingFaceEmbeddings\n",
    "# from langchain_community.embeddings import SentenceTransformerEmbeddings\n",
    "from langchain_core.documents import Document\n",
    "from huggingface_hub import login\n",
    "from typing import List\n",
    "from langchain_chroma import Chroma\n",
    "from langchain_core.prompts import ChatPromptTemplate, MessagesPlaceholder\n",
    "from langchain.schema.runnable import RunnablePassthrough\n",
    "from langchain_groq import ChatGroq\n",
    "from langchain_core.output_parsers import StrOutputParser\n",
    "from langchain_core.messages import AIMessage, HumanMessage\n",
    "from langchain.chains import create_history_aware_retriever, create_retrieval_chain\n",
    "from langchain.chains.combine_documents import create_stuff_documents_chain"
   ]
  },
  {
   "cell_type": "code",
   "execution_count": 31,
   "id": "9ff35e9e",
   "metadata": {},
   "outputs": [
    {
     "data": {
      "text/plain": [
       "True"
      ]
     },
     "execution_count": 31,
     "metadata": {},
     "output_type": "execute_result"
    }
   ],
   "source": [
    "load_dotenv()"
   ]
  },
  {
   "cell_type": "code",
   "execution_count": 36,
   "id": "ab358c4d",
   "metadata": {},
   "outputs": [],
   "source": [
    "HUGGINGFACE_API_KEY = os.getenv(\"H_API_KEY\")\n",
    "# print(\"Hugging Face API Key:\", HUGGINGFACE_API_KEY)"
   ]
  },
  {
   "cell_type": "code",
   "execution_count": 37,
   "id": "f0985b18",
   "metadata": {},
   "outputs": [],
   "source": [
    "# Login to Hugging Face\n",
    "login(token=HUGGINGFACE_API_KEY)"
   ]
  },
  {
   "cell_type": "code",
   "execution_count": 76,
   "id": "eee05fa3",
   "metadata": {},
   "outputs": [
    {
     "name": "stdout",
     "output_type": "stream",
     "text": [
      "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\n"
     ]
    }
   ],
   "source": [
    "# Get the GROQ API key from the environment variable\n",
    "GROQ_API_KEY = os.getenv(\"GROQ_API_KEY\")\n",
    "print(GROQ_API_KEY)"
   ]
  },
  {
   "cell_type": "code",
   "execution_count": 77,
   "id": "38ea8067",
   "metadata": {},
   "outputs": [],
   "source": [
    "# Set the GROQ API Key in the environment\n",
    "os.environ[\"GROQ_API_KEY\"] = GROQ_API_KEY"
   ]
  },
  {
   "cell_type": "code",
   "execution_count": 78,
   "id": "dc0624e4",
   "metadata": {},
   "outputs": [],
   "source": [
    "# Initialize the ChatGroq model\n",
    "llm = ChatGroq(\n",
    "    model=\"llama-3.1-8b-instant\",\n",
    "    temperature=0,\n",
    "    max_tokens=None,\n",
    "    timeout=None,\n",
    "    max_retries=2,\n",
    "    # other params...\n",
    ")"
   ]
  },
  {
   "cell_type": "code",
   "execution_count": 79,
   "id": "988f1376",
   "metadata": {},
   "outputs": [],
   "source": [
    "# Define output parser\n",
    "output_parser = StrOutputParser()"
   ]
  },
  {
   "cell_type": "code",
   "execution_count": 18,
   "id": "2ff2cbce",
   "metadata": {},
   "outputs": [],
   "source": [
    "# Function to load documents from a directory\n",
    "# The pages of the pdf files are merged into a single document\n",
    "# This is a buggy behavior, but it is the default behavior of the PyPDFLoader\n",
    "# The docx files are loaded as separate documents\n",
    "def load_documents_from_directory(directory: str):\n",
    "    documents = []\n",
    "    for filename in os.listdir(directory):\n",
    "        if filename.startswith('~$') or filename.startswith('.'):\n",
    "            continue\n",
    "        filepath = os.path.join(directory, filename)\n",
    "        if filename.endswith('.pdf'):\n",
    "            loader = PyPDFLoader(filepath)\n",
    "            pages = loader.load()\n",
    "            merged_text = \"\\n\\n\".join([p.page_content for p in pages])\n",
    "            metadata = pages[0].metadata\n",
    "            metadata[\"source_file\"] = filename\n",
    "            documents.append(Document(page_content=merged_text, metadata=metadata))\n",
    "        elif filename.endswith('.docx'):\n",
    "            loader = Docx2txtLoader(filepath)\n",
    "            docs = loader.load()\n",
    "            for doc in docs:\n",
    "                doc.metadata[\"source_file\"] = filename\n",
    "            documents.extend(docs)\n",
    "    return documents"
   ]
  },
  {
   "cell_type": "code",
   "execution_count": 19,
   "id": "c5a8a791",
   "metadata": {},
   "outputs": [
    {
     "name": "stdout",
     "output_type": "stream",
     "text": [
      "Loaded 5 documents from D:\\\\lrag\\\\docs\n",
      "D:\\\\lrag\\\\docs\\AeroVance_Systems_Extended.pdf\n",
      "D:\\\\lrag\\\\docs\\FinNova_Capital_Extended.pdf\n",
      "D:\\\\lrag\\\\docs\\GreenEarth_Biotech_Extended.docx\n",
      "D:\\\\lrag\\\\docs\\MediSphere_Diagnostics_Extended.pdf\n",
      "D:\\\\lrag\\\\docs\\NovaTech_Solutions_Extended.docx\n"
     ]
    }
   ],
   "source": [
    "# Load Documents from the specified directory\n",
    "directory = r'D:\\\\lrag\\\\docs'  # Replace with your directory path\n",
    "documents = load_documents_from_directory(directory)\n",
    "# Print the number of documents loaded\n",
    "print(f\"Loaded {len(documents)} documents from {directory}\")\n",
    "# list the loaded documents\n",
    "for doc in documents:\n",
    "    print(doc.metadata['source'])"
   ]
  },
  {
   "cell_type": "code",
   "execution_count": 20,
   "id": "c3c40327",
   "metadata": {},
   "outputs": [],
   "source": [
    "# Text Splitter\n",
    "text_splitter = RecursiveCharacterTextSplitter(\n",
    "    chunk_size=1000,\n",
    "    chunk_overlap=200,\n",
    "    length_function=len,\n",
    ")"
   ]
  },
  {
   "cell_type": "code",
   "execution_count": 21,
   "id": "bd6f0dc4",
   "metadata": {},
   "outputs": [
    {
     "name": "stdout",
     "output_type": "stream",
     "text": [
      "Split into 14 chunks\n"
     ]
    }
   ],
   "source": [
    "# split the documents into smaller chunks\n",
    "splits = text_splitter.split_documents(documents)\n",
    "# Print the number of splits\n",
    "print(f\"Split into {len(splits)} chunks\")"
   ]
  },
  {
   "cell_type": "markdown",
   "id": "4c1eb628",
   "metadata": {},
   "source": [
    "Embeddings"
   ]
  },
  {
   "cell_type": "code",
   "execution_count": 51,
   "id": "6752ef04",
   "metadata": {},
   "outputs": [],
   "source": [
    "# Initialize embeddings compatible with llama-3.1-8b-instant\n",
    "embed_model = HuggingFaceEmbeddings(\n",
    "    model_name=\"BAAI/bge-small-en-v1.5\",  # Use small version for CPU\n",
    "    model_kwargs={\"device\": \"cpu\"},  # Force CPU\n",
    "    encode_kwargs={\"normalize_embeddings\": True}\n",
    ")"
   ]
  },
  {
   "cell_type": "code",
   "execution_count": 52,
   "id": "5d52a107",
   "metadata": {},
   "outputs": [
    {
     "name": "stdout",
     "output_type": "stream",
     "text": [
      "Created embeddings for 14 document chunks\n"
     ]
    }
   ],
   "source": [
    "document_embeddings = embed_model.embed_documents([split.page_content for split in splits])\n",
    "# Print the number of document embeddings\n",
    "print(f\"Created embeddings for {len(document_embeddings)} document chunks\")"
   ]
  },
  {
   "cell_type": "code",
   "execution_count": 53,
   "id": "96049f9c",
   "metadata": {},
   "outputs": [
    {
     "data": {
      "text/plain": [
       "[0.029238184913992882,\n",
       " 0.0397220179438591,\n",
       " 0.02330380119383335,\n",
       " -0.03731292486190796,\n",
       " 0.09539669007062912,\n",
       " -0.03166435286402702,\n",
       " 0.06643205881118774,\n",
       " 0.02781878598034382,\n",
       " 0.009808049537241459,\n",
       " -0.05688025429844856,\n",
       " -0.007452498190104961,\n",
       " -0.03390991687774658,\n",
       " 0.01916222833096981,\n",
       " 0.006790407467633486,\n",
       " 0.040818534791469574,\n",
       " 0.0011405308032408357,\n",
       " 0.06132574751973152,\n",
       " -0.05142804980278015,\n",
       " -8.124792657326907e-06,\n",
       " -0.018773933872580528,\n",
       " 0.01912602409720421,\n",
       " 0.028326373547315598,\n",
       " 0.03149903565645218,\n",
       " 0.006104258820414543,\n",
       " -0.020294059067964554,\n",
       " 0.044972460716962814,\n",
       " -0.0347469262778759,\n",
       " -0.042890939861536026,\n",
       " 0.02132396213710308,\n",
       " -0.09751825034618378,\n",
       " 0.006312664598226547,\n",
       " -0.042831555008888245,\n",
       " -0.006815862841904163,\n",
       " -0.015227827243506908,\n",
       " -0.07265114039182663,\n",
       " -0.0024735976476222277,\n",
       " -0.0411909855902195,\n",
       " -0.011107610538601875,\n",
       " 0.015323769301176071,\n",
       " -0.0031717068050056696,\n",
       " 0.03797410801053047,\n",
       " 0.017169885337352753,\n",
       " -0.061464354395866394,\n",
       " -0.029268357902765274,\n",
       " -0.040417321026325226,\n",
       " 0.029584385454654694,\n",
       " 0.0028762416914105415,\n",
       " -0.017891164869070053,\n",
       " -0.00024444604059681296,\n",
       " -0.1134539470076561,\n",
       " 0.09778653085231781,\n",
       " -0.02796551212668419,\n",
       " 0.02907528169453144,\n",
       " -0.01057259738445282,\n",
       " 0.021247519180178642,\n",
       " 0.009119007736444473,\n",
       " -0.04661127179861069,\n",
       " -0.062193613499403,\n",
       " -0.033451031893491745,\n",
       " -0.06521274894475937,\n",
       " 0.05012175068259239,\n",
       " -0.04311484098434448,\n",
       " -0.1388302594423294,\n",
       " 0.06884445250034332,\n",
       " -0.051221538335084915,\n",
       " -0.010007302276790142,\n",
       " 0.010063564404845238,\n",
       " 0.00014120317064225674,\n",
       " 0.045226845890283585,\n",
       " -0.011512303724884987,\n",
       " -0.007476506754755974,\n",
       " -0.06827578693628311,\n",
       " -0.0801786482334137,\n",
       " 0.03225739672780037,\n",
       " 0.05606266111135483,\n",
       " 0.03579988330602646,\n",
       " 0.012251351028680801,\n",
       " -0.01958753727376461,\n",
       " 0.025604575872421265,\n",
       " -0.03902193531394005,\n",
       " 0.06463725119829178,\n",
       " -0.01495868805795908,\n",
       " -0.1173979863524437,\n",
       " 0.04695168510079384,\n",
       " -0.015560495667159557,\n",
       " -0.028026815503835678,\n",
       " 0.047262899577617645,\n",
       " 0.017371082678437233,\n",
       " 0.06662604957818985,\n",
       " 0.03881112486124039,\n",
       " -0.02549074776470661,\n",
       " -0.0039045517332851887,\n",
       " 0.038533203303813934,\n",
       " -0.00021190638653934002,\n",
       " 0.03121979720890522,\n",
       " -0.024836231023073196,\n",
       " 0.015937326475977898,\n",
       " 0.003943457268178463,\n",
       " -0.03174546733498573,\n",
       " 0.3661501109600067,\n",
       " -0.026082322001457214,\n",
       " -0.04917018488049507,\n",
       " -0.016398701816797256,\n",
       " -0.027592718601226807,\n",
       " 0.01943359151482582,\n",
       " 0.0400419719517231,\n",
       " -0.03825521841645241,\n",
       " -0.013870996423065662,\n",
       " 0.021340198814868927,\n",
       " -0.00768688227981329,\n",
       " 0.018241623416543007,\n",
       " -0.021918166428804398,\n",
       " 0.03382432460784912,\n",
       " 0.07145937532186508,\n",
       " -0.033973317593336105,\n",
       " -0.05176099017262459,\n",
       " 0.04730241745710373,\n",
       " 0.005088817328214645,\n",
       " 0.0020899437367916107,\n",
       " -0.03815602883696556,\n",
       " -0.006772011984139681,\n",
       " 0.01570635288953781,\n",
       " 0.02524642087519169,\n",
       " 0.06474172323942184,\n",
       " 0.02945380099117756,\n",
       " -0.012371751479804516,\n",
       " -0.003132247133180499,\n",
       " 0.05976410210132599,\n",
       " -0.014804491773247719,\n",
       " 0.0005554197123274207,\n",
       " 0.025964215397834778,\n",
       " -0.03497066721320152,\n",
       " -0.02121519297361374,\n",
       " -0.05703238770365715,\n",
       " -0.0013990546576678753,\n",
       " 0.030223771929740906,\n",
       " 0.023311911150813103,\n",
       " 0.029165204614400864,\n",
       " -0.008341504260897636,\n",
       " 0.032872434705495834,\n",
       " -0.02043258771300316,\n",
       " 0.04837951809167862,\n",
       " 0.054483331739902496,\n",
       " -0.03698354959487915,\n",
       " -0.08625102788209915,\n",
       " 0.07261031866073608,\n",
       " -0.023991968482732773,\n",
       " 0.039806876331567764,\n",
       " -0.012365976348519325,\n",
       " -0.040423981845378876,\n",
       " -0.011165186762809753,\n",
       " -0.02416597492992878,\n",
       " 0.018489716574549675,\n",
       " -0.03556867316365242,\n",
       " -0.022407790645956993,\n",
       " 0.025677816942334175,\n",
       " 0.023539405316114426,\n",
       " 0.03546701744198799,\n",
       " -0.008045859634876251,\n",
       " 0.03241589665412903,\n",
       " 0.011801274493336678,\n",
       " -0.02067464590072632,\n",
       " -0.0406390018761158,\n",
       " 0.18890787661075592,\n",
       " 0.06932435929775238,\n",
       " -0.10028014332056046,\n",
       " -0.07263533025979996,\n",
       " 0.045604098588228226,\n",
       " 0.03401250019669533,\n",
       " 0.058571700006723404,\n",
       " 0.0006292710895650089,\n",
       " -0.004818412475287914,\n",
       " -0.021364964544773102,\n",
       " -0.006571496371179819,\n",
       " -0.019787782803177834,\n",
       " -0.05335376039147377,\n",
       " -0.0363599918782711,\n",
       " -0.046171896159648895,\n",
       " -0.005899406969547272,\n",
       " 0.08503062278032303,\n",
       " 0.08329883217811584,\n",
       " -0.041759200394153595,\n",
       " -0.029541784897446632,\n",
       " -0.03175880387425423,\n",
       " 0.003352291416376829,\n",
       " 0.015114916488528252,\n",
       " -0.036040548235177994,\n",
       " -0.02668694593012333,\n",
       " -0.06361102312803268,\n",
       " -0.1235213652253151,\n",
       " -0.07527361065149307,\n",
       " 0.07512828707695007,\n",
       " -0.05388488247990608,\n",
       " 0.05464865267276764,\n",
       " 0.0616815984249115,\n",
       " 0.026239817962050438,\n",
       " -0.0035652045626193285,\n",
       " -0.0135212242603302,\n",
       " 0.07906565070152283,\n",
       " -0.023264771327376366,\n",
       " 0.04250475764274597,\n",
       " 0.04381947964429855,\n",
       " 0.048316873610019684,\n",
       " 0.0503525473177433,\n",
       " -0.004074804950505495,\n",
       " 0.02583194524049759,\n",
       " -0.0019569038413465023,\n",
       " -0.009628567844629288,\n",
       " -0.024755649268627167,\n",
       " 0.015249856747686863,\n",
       " -0.04346221685409546,\n",
       " -0.06339482218027115,\n",
       " 0.04529663920402527,\n",
       " -0.02514266036450863,\n",
       " -0.027212800458073616,\n",
       " 0.041871700435876846,\n",
       " 0.002928307745605707,\n",
       " -0.016861317679286003,\n",
       " -0.05698452517390251,\n",
       " 0.007402900140732527,\n",
       " 0.02401203289628029,\n",
       " 0.08746852725744247,\n",
       " -0.015252594836056232,\n",
       " -0.293739378452301,\n",
       " -0.0017219824949279428,\n",
       " -0.05063695088028908,\n",
       " -0.023355932906270027,\n",
       " -0.027355406433343887,\n",
       " 0.01369411963969469,\n",
       " -0.02516433410346508,\n",
       " 0.01956283301115036,\n",
       " -0.004436628893017769,\n",
       " -0.03115987218916416,\n",
       " 0.1121700257062912,\n",
       " 0.0234450064599514,\n",
       " 0.031514741480350494,\n",
       " 0.007499320432543755,\n",
       " -0.02727223001420498,\n",
       " -0.03073708899319172,\n",
       " 0.013007406145334244,\n",
       " 0.0312991701066494,\n",
       " -0.05710650607943535,\n",
       " -0.038520172238349915,\n",
       " -0.008181851357221603,\n",
       " 0.027320493012666702,\n",
       " -0.05243021622300148,\n",
       " 0.008850084617733955,\n",
       " -0.0014257085276767612,\n",
       " 0.040668509900569916,\n",
       " 0.0884208157658577,\n",
       " -0.025493791326880455,\n",
       " 0.0008435982163064182,\n",
       " -0.04509245976805687,\n",
       " 0.02870972827076912,\n",
       " 0.03479154035449028,\n",
       " 0.02209993451833725,\n",
       " -0.02049235813319683,\n",
       " 0.026240382343530655,\n",
       " -0.019223149865865707,\n",
       " 0.061489611864089966,\n",
       " -0.0007889962871558964,\n",
       " 0.005503092426806688,\n",
       " -0.009024475701153278,\n",
       " -0.025836795568466187,\n",
       " 0.02415197156369686,\n",
       " 0.04258047044277191,\n",
       " -0.054307326674461365,\n",
       " 0.03982127085328102,\n",
       " -0.10027067363262177,\n",
       " -0.0037565159145742655,\n",
       " -0.0005848970613442361,\n",
       " -0.031319256871938705,\n",
       " 0.021908849477767944,\n",
       " -0.04863214120268822,\n",
       " 0.0420905165374279,\n",
       " -0.03533429279923439,\n",
       " 0.05451330915093422,\n",
       " 0.04784748703241348,\n",
       " -0.028259363025426865,\n",
       " -0.05608634650707245,\n",
       " 0.0653824433684349,\n",
       " 0.01883702166378498,\n",
       " -0.0020149294286966324,\n",
       " 0.02711392752826214,\n",
       " 0.030765140429139137,\n",
       " -0.0052726068533957005,\n",
       " -0.004791219253093004,\n",
       " 0.05960243195295334,\n",
       " -0.04133015498518944,\n",
       " -0.0035845255479216576,\n",
       " 0.01591641642153263,\n",
       " 0.060268912464380264,\n",
       " -0.07352668046951294,\n",
       " 0.004825524985790253,\n",
       " 0.10683678835630417,\n",
       " -0.03539722040295601,\n",
       " -0.0023693544790148735,\n",
       " 0.016261765733361244,\n",
       " -0.02451811544597149,\n",
       " 0.07861946523189545,\n",
       " 0.08899860829114914,\n",
       " -0.02590782195329666,\n",
       " 0.0455431193113327,\n",
       " 0.020332811400294304,\n",
       " -0.1212126836180687,\n",
       " 0.020055821165442467,\n",
       " 0.04500074312090874,\n",
       " -0.06788243353366852,\n",
       " -0.03494167700409889,\n",
       " -0.003940466325730085,\n",
       " -0.07192160934209824,\n",
       " 0.00521554471924901,\n",
       " -0.006627954542636871,\n",
       " 0.024657830595970154,\n",
       " -0.039143968373537064,\n",
       " -0.02444266527891159,\n",
       " -0.06371007859706879,\n",
       " -0.009140070527791977,\n",
       " 0.062479689717292786,\n",
       " -0.20324771106243134,\n",
       " 0.02108851820230484,\n",
       " 0.0700395256280899,\n",
       " -0.018587401136755943,\n",
       " -0.0562177449464798,\n",
       " -0.10117276012897491,\n",
       " 0.012527013197541237,\n",
       " -0.044593289494514465,\n",
       " 0.03365723416209221,\n",
       " 0.012143706902861595,\n",
       " 0.01216649916023016,\n",
       " -0.03098272904753685,\n",
       " -0.01592474989593029,\n",
       " -0.01999194547533989,\n",
       " 0.03911896049976349,\n",
       " 0.0693010613322258,\n",
       " 0.0857129916548729,\n",
       " -0.04868351295590401,\n",
       " 0.01423612143844366,\n",
       " -0.03752557933330536,\n",
       " -0.0013665207661688328,\n",
       " 0.001469336566515267,\n",
       " 0.1070796474814415,\n",
       " 0.04164630174636841,\n",
       " -0.0030248037073761225,\n",
       " -0.01737823709845543,\n",
       " -0.011036398820579052,\n",
       " -0.019886668771505356,\n",
       " -0.04983637481927872,\n",
       " 0.017216945067048073,\n",
       " 0.02345399372279644,\n",
       " -0.067299023270607,\n",
       " 0.1257818639278412,\n",
       " -0.02970382384955883,\n",
       " -0.04179785028100014,\n",
       " 0.05227560177445412,\n",
       " 0.0018102250760421157,\n",
       " 0.05092226341366768,\n",
       " -0.04919695481657982,\n",
       " -0.026469340547919273,\n",
       " -0.060189418494701385,\n",
       " -0.005924196448177099,\n",
       " 0.06538672000169754,\n",
       " 0.07278158515691757,\n",
       " -0.00472051277756691,\n",
       " 0.007720876019448042,\n",
       " 0.03224419057369232,\n",
       " -0.03765212744474411,\n",
       " 0.012714976444840431,\n",
       " 0.03321322798728943,\n",
       " -0.04456350579857826,\n",
       " 0.025621039792895317,\n",
       " 0.042004141956567764,\n",
       " 0.02504194714128971,\n",
       " 0.0019187749130651355,\n",
       " 0.010920340195298195,\n",
       " -0.00999295525252819,\n",
       " -0.051517099142074585,\n",
       " 0.009136121720075607,\n",
       " -0.0036965461913496256,\n",
       " -0.004147099331021309,\n",
       " 0.05737279728055,\n",
       " -0.048604290932416916,\n",
       " 0.029914014041423798,\n",
       " 0.038413070142269135]"
      ]
     },
     "execution_count": 53,
     "metadata": {},
     "output_type": "execute_result"
    }
   ],
   "source": [
    "document_embeddings[0]  # Print the first document embedding"
   ]
  },
  {
   "cell_type": "code",
   "execution_count": 55,
   "id": "bcde2571",
   "metadata": {},
   "outputs": [],
   "source": [
    "# Store the embeddings in a Chroma database\n",
    "embedding_function = HuggingFaceEmbeddings(\n",
    "    model_name=\"BAAI/bge-small-en-v1.5\",  # Use small version for CPU\n",
    "    model_kwargs={\"device\": \"cpu\"},  # Force CPU\n",
    "    encode_kwargs={\"normalize_embeddings\": True}\n",
    ")\n",
    "collection_name = \"my_collection\"\n",
    "vectorstore = Chroma.from_documents(\n",
    "    documents=splits,\n",
    "    embedding=embedding_function,\n",
    "    persist_directory=\"./chroma_db\",\n",
    "    collection_name=collection_name\n",
    ")"
   ]
  },
  {
   "cell_type": "code",
   "execution_count": 57,
   "id": "623aedc2",
   "metadata": {},
   "outputs": [
    {
     "name": "stdout",
     "output_type": "stream",
     "text": [
      "\n",
      "Top 2 most relevant chunks for query: 'Where is AeroVance Systems located?':\n",
      "\n",
      "Result 1:\n",
      "Source: D:\\\\lrag\\\\docs\\AeroVance_Systems_Extended.pdf\n",
      "Page Content: AeroVance Systems\n",
      "Industry: Aerospace Engineering & Defense Technology\n",
      "Location: Toulouse, France\n",
      "About Us\n",
      "AeroVance Systems is a leader in next-generation aerospace technologies. It supports civil and\n",
      "defense sectors with R&D in avionics, propulsion systems, and aerospace cybersecurity. (Detail\n",
      "level 1)\n",
      "AeroVance Systems is a leader in next-generation aerospace technologies. It supports civil and\n",
      "defense sectors with R&D in avionics, propulsion systems, and aerospace cybersecurity. (Detail\n",
      "level 2)\n",
      "AeroVance Systems is a leader in next-generation aerospace technologies. It supports civil and\n",
      "defense sectors with R&D in avionics, propulsion systems, and aerospace cybersecurity. (Detail\n",
      "level 3)\n",
      "AeroVance Systems is a leader in next-generation aerospace technologies. It supports civil and\n",
      "defense sectors with R&D in avionics, propulsion systems, and aerospace cybersecurity. (Detail\n",
      "level 4)\n",
      "Our Services\n",
      "- Aerospace R&D (Detail level 1)\n",
      "Aerospace R&D (Detail level 2)\n",
      "Metadata: {'creationdate': 'D:20250430140620', 'creator': 'PyPDF', 'page': 0, 'page_label': '1', 'producer': 'PyFPDF 1.7.2 http://pyfpdf.googlecode.com/', 'source': 'D:\\\\\\\\lrag\\\\\\\\docs\\\\AeroVance_Systems_Extended.pdf', 'source_file': 'AeroVance_Systems_Extended.pdf', 'total_pages': 2}\n",
      "--------------------------------------------------------------------------------\n",
      "Result 2:\n",
      "Source: D:\\\\lrag\\\\docs\\AeroVance_Systems_Extended.pdf\n",
      "Page Content: - Avionics Software (Detail level 1)\n",
      "Avionics Software (Detail level 2)\n",
      "Mission Statement\n",
      "Shaping the future of flight and security. (Detail level 1)\n",
      "Shaping the future of flight and security. (Detail level 2)\n",
      "Shaping the future of flight and security. (Detail level 3)\n",
      "Key Clients\n",
      "- EU AirForce (Detail level 1)\n",
      "EU AirForce (Detail level 2)\n",
      "- SkyJet Aviation (Detail level 1)\n",
      "SkyJet Aviation (Detail level 2)\n",
      "- GlobalSat (Detail level 1)\n",
      "GlobalSat (Detail level 2)\n",
      "Metadata: {'creationdate': 'D:20250430140620', 'creator': 'PyPDF', 'page': 0, 'page_label': '1', 'producer': 'PyFPDF 1.7.2 http://pyfpdf.googlecode.com/', 'source': 'D:\\\\\\\\lrag\\\\\\\\docs\\\\AeroVance_Systems_Extended.pdf', 'source_file': 'AeroVance_Systems_Extended.pdf', 'total_pages': 2}\n",
      "--------------------------------------------------------------------------------\n"
     ]
    }
   ],
   "source": [
    "# Similarity Search - We are just getting the top 2 most relevant chunks for a query\n",
    "query = \"Where is AeroVance Systems located?\"\n",
    "\n",
    "search_results = vectorstore.similarity_search(query, k=2)\n",
    "\n",
    "# Print the search results\n",
    "print(f\"\\nTop 2 most relevant chunks for query: '{query}':\\n\")\n",
    "for i, result in enumerate(search_results, 1):\n",
    "    print(f\"Result {i}:\")\n",
    "    print(f\"Source: {result.metadata.get('source', 'unknown')}\")\n",
    "    print(f\"Page Content: {result.page_content}\")\n",
    "    print(f\"Metadata: {result.metadata}\")\n",
    "    print(\"-\" * 80)"
   ]
  },
  {
   "cell_type": "code",
   "execution_count": 67,
   "id": "ed5dca57",
   "metadata": {},
   "outputs": [
    {
     "name": "stdout",
     "output_type": "stream",
     "text": [
      "Retriever type: <class 'langchain_core.vectorstores.base.VectorStoreRetriever'>\n"
     ]
    },
    {
     "data": {
      "text/plain": [
       "[Document(id='fa1cb206-2e33-4111-b35a-d0af26eca58b', metadata={'creationdate': 'D:20250430140620', 'creator': 'PyPDF', 'page': 0, 'page_label': '1', 'producer': 'PyFPDF 1.7.2 http://pyfpdf.googlecode.com/', 'source': 'D:\\\\\\\\lrag\\\\\\\\docs\\\\AeroVance_Systems_Extended.pdf', 'source_file': 'AeroVance_Systems_Extended.pdf', 'total_pages': 2}, page_content='AeroVance Systems\\nIndustry: Aerospace Engineering & Defense Technology\\nLocation: Toulouse, France\\nAbout Us\\nAeroVance Systems is a leader in next-generation aerospace technologies. It supports civil and\\ndefense sectors with R&D in avionics, propulsion systems, and aerospace cybersecurity. (Detail\\nlevel 1)\\nAeroVance Systems is a leader in next-generation aerospace technologies. It supports civil and\\ndefense sectors with R&D in avionics, propulsion systems, and aerospace cybersecurity. (Detail\\nlevel 2)\\nAeroVance Systems is a leader in next-generation aerospace technologies. It supports civil and\\ndefense sectors with R&D in avionics, propulsion systems, and aerospace cybersecurity. (Detail\\nlevel 3)\\nAeroVance Systems is a leader in next-generation aerospace technologies. It supports civil and\\ndefense sectors with R&D in avionics, propulsion systems, and aerospace cybersecurity. (Detail\\nlevel 4)\\nOur Services\\n- Aerospace R&D (Detail level 1)\\nAerospace R&D (Detail level 2)'),\n",
       " Document(id='0d448d93-8967-489a-bcc8-3fb6981bd489', metadata={'creationdate': 'D:20250430140620', 'creator': 'PyPDF', 'page': 0, 'page_label': '1', 'producer': 'PyFPDF 1.7.2 http://pyfpdf.googlecode.com/', 'source': 'D:\\\\\\\\lrag\\\\\\\\docs\\\\AeroVance_Systems_Extended.pdf', 'source_file': 'AeroVance_Systems_Extended.pdf', 'total_pages': 2}, page_content='- Avionics Software (Detail level 1)\\nAvionics Software (Detail level 2)\\nMission Statement\\nShaping the future of flight and security. (Detail level 1)\\nShaping the future of flight and security. (Detail level 2)\\nShaping the future of flight and security. (Detail level 3)\\nKey Clients\\n- EU AirForce (Detail level 1)\\nEU AirForce (Detail level 2)\\n- SkyJet Aviation (Detail level 1)\\nSkyJet Aviation (Detail level 2)\\n- GlobalSat (Detail level 1)\\nGlobalSat (Detail level 2)')]"
      ]
     },
     "execution_count": 67,
     "metadata": {},
     "output_type": "execute_result"
    }
   ],
   "source": [
    "# We cannot use the invoke method with the vectorstore object directly\n",
    "# We need to convert the vectorstore to a retriever first\n",
    "retriever = vectorstore.as_retriever(search_kwargs={\"k\": 2})\n",
    "# Check the data type of the retriever\n",
    "print(f\"Retriever type: {type(retriever)}\")\n",
    "retriever.invoke(query)"
   ]
  },
  {
   "cell_type": "code",
   "execution_count": 60,
   "id": "17753a64",
   "metadata": {},
   "outputs": [],
   "source": [
    "# Create a prompt template for the LLM\n",
    "template = \"\"\"\n",
    "Answer the question based only on the following context. If the answer is not in the context, say \"I don't know\".\n",
    "{context}\n",
    "\n",
    "Question: {question}\n",
    "\n",
    "Answer: \"\"\"\n",
    "prompt = ChatPromptTemplate.from_template(template)"
   ]
  },
  {
   "cell_type": "code",
   "execution_count": 62,
   "id": "3b0e1425",
   "metadata": {},
   "outputs": [],
   "source": [
    "# Define the chain to use the retriever and the prompt\n",
    "rag_chain = (\n",
    "    {\"context\": retriever, \"question\": RunnablePassthrough()} | prompt\n",
    ")"
   ]
  },
  {
   "cell_type": "code",
   "execution_count": 64,
   "id": "b8459aa8",
   "metadata": {},
   "outputs": [
    {
     "data": {
      "text/plain": [
       "ChatPromptValue(messages=[HumanMessage(content='\\nAnswer the question based only on the following context. If the answer is not in the context, say \"I don\\'t know\".\\n[Document(id=\\'fa1cb206-2e33-4111-b35a-d0af26eca58b\\', metadata={\\'creationdate\\': \\'D:20250430140620\\', \\'creator\\': \\'PyPDF\\', \\'page\\': 0, \\'page_label\\': \\'1\\', \\'producer\\': \\'PyFPDF 1.7.2 http://pyfpdf.googlecode.com/\\', \\'source\\': \\'D:\\\\\\\\\\\\\\\\lrag\\\\\\\\\\\\\\\\docs\\\\\\\\AeroVance_Systems_Extended.pdf\\', \\'source_file\\': \\'AeroVance_Systems_Extended.pdf\\', \\'total_pages\\': 2}, page_content=\\'AeroVance Systems\\\\nIndustry: Aerospace Engineering & Defense Technology\\\\nLocation: Toulouse, France\\\\nAbout Us\\\\nAeroVance Systems is a leader in next-generation aerospace technologies. It supports civil and\\\\ndefense sectors with R&D in avionics, propulsion systems, and aerospace cybersecurity. (Detail\\\\nlevel 1)\\\\nAeroVance Systems is a leader in next-generation aerospace technologies. It supports civil and\\\\ndefense sectors with R&D in avionics, propulsion systems, and aerospace cybersecurity. (Detail\\\\nlevel 2)\\\\nAeroVance Systems is a leader in next-generation aerospace technologies. It supports civil and\\\\ndefense sectors with R&D in avionics, propulsion systems, and aerospace cybersecurity. (Detail\\\\nlevel 3)\\\\nAeroVance Systems is a leader in next-generation aerospace technologies. It supports civil and\\\\ndefense sectors with R&D in avionics, propulsion systems, and aerospace cybersecurity. (Detail\\\\nlevel 4)\\\\nOur Services\\\\n- Aerospace R&D (Detail level 1)\\\\nAerospace R&D (Detail level 2)\\'), Document(id=\\'0d448d93-8967-489a-bcc8-3fb6981bd489\\', metadata={\\'creationdate\\': \\'D:20250430140620\\', \\'creator\\': \\'PyPDF\\', \\'page\\': 0, \\'page_label\\': \\'1\\', \\'producer\\': \\'PyFPDF 1.7.2 http://pyfpdf.googlecode.com/\\', \\'source\\': \\'D:\\\\\\\\\\\\\\\\lrag\\\\\\\\\\\\\\\\docs\\\\\\\\AeroVance_Systems_Extended.pdf\\', \\'source_file\\': \\'AeroVance_Systems_Extended.pdf\\', \\'total_pages\\': 2}, page_content=\\'- Avionics Software (Detail level 1)\\\\nAvionics Software (Detail level 2)\\\\nMission Statement\\\\nShaping the future of flight and security. (Detail level 1)\\\\nShaping the future of flight and security. (Detail level 2)\\\\nShaping the future of flight and security. (Detail level 3)\\\\nKey Clients\\\\n- EU AirForce (Detail level 1)\\\\nEU AirForce (Detail level 2)\\\\n- SkyJet Aviation (Detail level 1)\\\\nSkyJet Aviation (Detail level 2)\\\\n- GlobalSat (Detail level 1)\\\\nGlobalSat (Detail level 2)\\')]\\n\\nQuestion: Where is AeroVance Systems located?\\n\\nAnswer: ', additional_kwargs={}, response_metadata={})])"
      ]
     },
     "execution_count": 64,
     "metadata": {},
     "output_type": "execute_result"
    }
   ],
   "source": [
    "# Invoke the chain with a query\n",
    "query = \"Where is AeroVance Systems located?\"\n",
    "rag_chain.invoke(query)"
   ]
  },
  {
   "cell_type": "code",
   "execution_count": 71,
   "id": "7ea7bc25",
   "metadata": {},
   "outputs": [],
   "source": [
    "# Function to filter the page content from the document object\n",
    "def docs2str(docs: List) -> str:\n",
    "    return \"\\n\\n\".join(doc.page_content for doc in docs)"
   ]
  },
  {
   "cell_type": "code",
   "execution_count": 73,
   "id": "c6a09f1b",
   "metadata": {},
   "outputs": [],
   "source": [
    "# Modify the chain to use the docs2str function\n",
    "rag_chain = (\n",
    "    {\"context\": retriever | docs2str, \"question\": RunnablePassthrough()} | prompt\n",
    ")"
   ]
  },
  {
   "cell_type": "code",
   "execution_count": 74,
   "id": "dd218517",
   "metadata": {},
   "outputs": [
    {
     "data": {
      "text/plain": [
       "ChatPromptValue(messages=[HumanMessage(content='\\nAnswer the question based only on the following context. If the answer is not in the context, say \"I don\\'t know\".\\nAeroVance Systems\\nIndustry: Aerospace Engineering & Defense Technology\\nLocation: Toulouse, France\\nAbout Us\\nAeroVance Systems is a leader in next-generation aerospace technologies. It supports civil and\\ndefense sectors with R&D in avionics, propulsion systems, and aerospace cybersecurity. (Detail\\nlevel 1)\\nAeroVance Systems is a leader in next-generation aerospace technologies. It supports civil and\\ndefense sectors with R&D in avionics, propulsion systems, and aerospace cybersecurity. (Detail\\nlevel 2)\\nAeroVance Systems is a leader in next-generation aerospace technologies. It supports civil and\\ndefense sectors with R&D in avionics, propulsion systems, and aerospace cybersecurity. (Detail\\nlevel 3)\\nAeroVance Systems is a leader in next-generation aerospace technologies. It supports civil and\\ndefense sectors with R&D in avionics, propulsion systems, and aerospace cybersecurity. (Detail\\nlevel 4)\\nOur Services\\n- Aerospace R&D (Detail level 1)\\nAerospace R&D (Detail level 2)\\n\\n- Avionics Software (Detail level 1)\\nAvionics Software (Detail level 2)\\nMission Statement\\nShaping the future of flight and security. (Detail level 1)\\nShaping the future of flight and security. (Detail level 2)\\nShaping the future of flight and security. (Detail level 3)\\nKey Clients\\n- EU AirForce (Detail level 1)\\nEU AirForce (Detail level 2)\\n- SkyJet Aviation (Detail level 1)\\nSkyJet Aviation (Detail level 2)\\n- GlobalSat (Detail level 1)\\nGlobalSat (Detail level 2)\\n\\nQuestion: Where is AeroVance Systems located?\\n\\nAnswer: ', additional_kwargs={}, response_metadata={})])"
      ]
     },
     "execution_count": 74,
     "metadata": {},
     "output_type": "execute_result"
    }
   ],
   "source": [
    "# Invoke the modified chain with a query\n",
    "query = \"Where is AeroVance Systems located?\"\n",
    "rag_chain.invoke(query)"
   ]
  },
  {
   "cell_type": "code",
   "execution_count": 102,
   "id": "f81b59a2",
   "metadata": {},
   "outputs": [],
   "source": [
    "# Modify the chain again to use the LLM ad the output parser\n",
    "rag_chain = (\n",
    "    {\"context\": retriever | docs2str, \"question\": RunnablePassthrough()} | prompt | llm | output_parser\n",
    ")"
   ]
  },
  {
   "cell_type": "code",
   "execution_count": 112,
   "id": "b07dba75",
   "metadata": {},
   "outputs": [
    {
     "name": "stdout",
     "output_type": "stream",
     "text": [
      "Response: Toulouse, France.\n"
     ]
    }
   ],
   "source": [
    "# Invoke the remodified chain with a query\n",
    "question = \"Where is AeroVance Systems located?\"\n",
    "response = rag_chain.invoke(question)\n",
    "print(f\"Response: {response}\")"
   ]
  },
  {
   "cell_type": "markdown",
   "id": "f05bf412",
   "metadata": {},
   "source": [
    "Conversational RAG - Answer follow up questions"
   ]
  },
  {
   "cell_type": "code",
   "execution_count": 113,
   "id": "d5bea248",
   "metadata": {},
   "outputs": [],
   "source": [
    "# Initialize the chat history\n",
    "chat_history = []"
   ]
  },
  {
   "cell_type": "code",
   "execution_count": 114,
   "id": "a6296f8d",
   "metadata": {},
   "outputs": [],
   "source": [
    "# Insert the question and response into the chat history\n",
    "chat_history.extend([\n",
    "    HumanMessage(content=question),\n",
    "    AIMessage(content=response)\n",
    "])"
   ]
  },
  {
   "cell_type": "code",
   "execution_count": 115,
   "id": "802f512f",
   "metadata": {},
   "outputs": [
    {
     "data": {
      "text/plain": [
       "[HumanMessage(content='Where is AeroVance Systems located?', additional_kwargs={}, response_metadata={}),\n",
       " AIMessage(content='Toulouse, France.', additional_kwargs={}, response_metadata={})]"
      ]
     },
     "execution_count": 115,
     "metadata": {},
     "output_type": "execute_result"
    }
   ],
   "source": [
    "chat_history  # Print the chat history"
   ]
  },
  {
   "cell_type": "markdown",
   "id": "193a3669",
   "metadata": {},
   "source": [
    "Contextualize the question"
   ]
  },
  {
   "cell_type": "code",
   "execution_count": 116,
   "id": "7ad5f6bb",
   "metadata": {},
   "outputs": [],
   "source": [
    "contextualize_q_system_prompt = \"\"\"Your ONLY task is to reformulate questions to be standalone. NEVER answer.\n",
    "Follow these rules STRICTLY:\n",
    "1. If the question is already standalone, return it unchanged\n",
    "2. If it references chat history, rewrite it to include necessary context\n",
    "3. UNDER NO CIRCUMSTANCES provide an answer\n",
    "4. Only output the reformulated question, nothing else\n",
    "\n",
    "Current question to reformulate:\"\"\""
   ]
  },
  {
   "cell_type": "code",
   "execution_count": 117,
   "id": "f68a6c78",
   "metadata": {},
   "outputs": [
    {
     "data": {
      "text/plain": [
       "'What sectors does AeroVance Systems support?'"
      ]
     },
     "execution_count": 117,
     "metadata": {},
     "output_type": "execute_result"
    }
   ],
   "source": [
    "# Messages placeholder can take a list of messages (chat history)\n",
    "contextualize_q_prompt = ChatPromptTemplate.from_messages([\n",
    "    (\"system\", contextualize_q_system_prompt),\n",
    "    MessagesPlaceholder(\"chat_history\"),\n",
    "    (\"human\", \"{input}\"),\n",
    "])\n",
    "contextualize_chain = contextualize_q_prompt | llm | StrOutputParser()\n",
    "contextualize_chain.invoke({\"input\": \"Which sectors does it support?\", \"chat_history\": chat_history})"
   ]
  },
  {
   "cell_type": "code",
   "execution_count": 119,
   "id": "99adeee1",
   "metadata": {},
   "outputs": [
    {
     "data": {
      "text/plain": [
       "[Document(id='fa1cb206-2e33-4111-b35a-d0af26eca58b', metadata={'creationdate': 'D:20250430140620', 'creator': 'PyPDF', 'page': 0, 'page_label': '1', 'producer': 'PyFPDF 1.7.2 http://pyfpdf.googlecode.com/', 'source': 'D:\\\\\\\\lrag\\\\\\\\docs\\\\AeroVance_Systems_Extended.pdf', 'source_file': 'AeroVance_Systems_Extended.pdf', 'total_pages': 2}, page_content='AeroVance Systems\\nIndustry: Aerospace Engineering & Defense Technology\\nLocation: Toulouse, France\\nAbout Us\\nAeroVance Systems is a leader in next-generation aerospace technologies. It supports civil and\\ndefense sectors with R&D in avionics, propulsion systems, and aerospace cybersecurity. (Detail\\nlevel 1)\\nAeroVance Systems is a leader in next-generation aerospace technologies. It supports civil and\\ndefense sectors with R&D in avionics, propulsion systems, and aerospace cybersecurity. (Detail\\nlevel 2)\\nAeroVance Systems is a leader in next-generation aerospace technologies. It supports civil and\\ndefense sectors with R&D in avionics, propulsion systems, and aerospace cybersecurity. (Detail\\nlevel 3)\\nAeroVance Systems is a leader in next-generation aerospace technologies. It supports civil and\\ndefense sectors with R&D in avionics, propulsion systems, and aerospace cybersecurity. (Detail\\nlevel 4)\\nOur Services\\n- Aerospace R&D (Detail level 1)\\nAerospace R&D (Detail level 2)'),\n",
       " Document(id='1b02e25c-2d8c-43ac-9cf7-1f42e89fe460', metadata={'creationdate': 'D:20250430140620', 'creator': 'PyPDF', 'page': 0, 'page_label': '1', 'producer': 'PyFPDF 1.7.2 http://pyfpdf.googlecode.com/', 'source': 'D:\\\\\\\\lrag\\\\\\\\docs\\\\AeroVance_Systems_Extended.pdf', 'source_file': 'AeroVance_Systems_Extended.pdf', 'total_pages': 2}, page_content='defense sectors with R&D in avionics, propulsion systems, and aerospace cybersecurity. (Detail\\nlevel 4)\\nOur Services\\n- Aerospace R&D (Detail level 1)\\nAerospace R&D (Detail level 2)\\n- Defense Systems (Detail level 1)\\nDefense Systems (Detail level 2)')]"
      ]
     },
     "execution_count": 119,
     "metadata": {},
     "output_type": "execute_result"
    }
   ],
   "source": [
    "# Create and use history aware retriever\n",
    "history_aware_retriever = create_history_aware_retriever(\n",
    "    llm,\n",
    "    retriever,\n",
    "    contextualize_q_prompt\n",
    ")\n",
    "history_aware_retriever.invoke({\"input\": \"Which sectors does it support?\", \"chat_history\": chat_history})"
   ]
  },
  {
   "cell_type": "code",
   "execution_count": 121,
   "id": "3a0f27ac",
   "metadata": {},
   "outputs": [],
   "source": [
    "# Create another prompt\n",
    "qa_prompt = ChatPromptTemplate.from_messages([\n",
    "    (\"system\", \"You are a helpful AI assistant. Use the following context to answer the user's question.\"),\n",
    "    (\"system\", \"Context: {context}\"),\n",
    "    MessagesPlaceholder(variable_name=\"chat_history\"),\n",
    "    (\"human\", \"{input}\")\n",
    "])\n",
    "\n",
    "question_answer_chain = create_stuff_documents_chain(llm, qa_prompt)\n",
    "rag_chain = create_retrieval_chain(history_aware_retriever, question_answer_chain)"
   ]
  },
  {
   "cell_type": "code",
   "execution_count": 122,
   "id": "dab1600d",
   "metadata": {},
   "outputs": [
    {
     "data": {
      "text/plain": [
       "{'input': 'Which sectors does it support?',\n",
       " 'chat_history': [HumanMessage(content='Where is AeroVance Systems located?', additional_kwargs={}, response_metadata={}),\n",
       "  AIMessage(content='Toulouse, France.', additional_kwargs={}, response_metadata={})],\n",
       " 'context': [Document(id='fa1cb206-2e33-4111-b35a-d0af26eca58b', metadata={'creationdate': 'D:20250430140620', 'creator': 'PyPDF', 'page': 0, 'page_label': '1', 'producer': 'PyFPDF 1.7.2 http://pyfpdf.googlecode.com/', 'source': 'D:\\\\\\\\lrag\\\\\\\\docs\\\\AeroVance_Systems_Extended.pdf', 'source_file': 'AeroVance_Systems_Extended.pdf', 'total_pages': 2}, page_content='AeroVance Systems\\nIndustry: Aerospace Engineering & Defense Technology\\nLocation: Toulouse, France\\nAbout Us\\nAeroVance Systems is a leader in next-generation aerospace technologies. It supports civil and\\ndefense sectors with R&D in avionics, propulsion systems, and aerospace cybersecurity. (Detail\\nlevel 1)\\nAeroVance Systems is a leader in next-generation aerospace technologies. It supports civil and\\ndefense sectors with R&D in avionics, propulsion systems, and aerospace cybersecurity. (Detail\\nlevel 2)\\nAeroVance Systems is a leader in next-generation aerospace technologies. It supports civil and\\ndefense sectors with R&D in avionics, propulsion systems, and aerospace cybersecurity. (Detail\\nlevel 3)\\nAeroVance Systems is a leader in next-generation aerospace technologies. It supports civil and\\ndefense sectors with R&D in avionics, propulsion systems, and aerospace cybersecurity. (Detail\\nlevel 4)\\nOur Services\\n- Aerospace R&D (Detail level 1)\\nAerospace R&D (Detail level 2)'),\n",
       "  Document(id='1b02e25c-2d8c-43ac-9cf7-1f42e89fe460', metadata={'creationdate': 'D:20250430140620', 'creator': 'PyPDF', 'page': 0, 'page_label': '1', 'producer': 'PyFPDF 1.7.2 http://pyfpdf.googlecode.com/', 'source': 'D:\\\\\\\\lrag\\\\\\\\docs\\\\AeroVance_Systems_Extended.pdf', 'source_file': 'AeroVance_Systems_Extended.pdf', 'total_pages': 2}, page_content='defense sectors with R&D in avionics, propulsion systems, and aerospace cybersecurity. (Detail\\nlevel 4)\\nOur Services\\n- Aerospace R&D (Detail level 1)\\nAerospace R&D (Detail level 2)\\n- Defense Systems (Detail level 1)\\nDefense Systems (Detail level 2)')],\n",
       " 'answer': 'AeroVance Systems supports both civil and defense sectors.'}"
      ]
     },
     "execution_count": 122,
     "metadata": {},
     "output_type": "execute_result"
    }
   ],
   "source": [
    "rag_chain.invoke({\"input\": \"Which sectors does it support?\", \"chat_history\": chat_history})"
   ]
  }
 ],
 "metadata": {
  "kernelspec": {
   "display_name": "venv",
   "language": "python",
   "name": "python3"
  },
  "language_info": {
   "codemirror_mode": {
    "name": "ipython",
    "version": 3
   },
   "file_extension": ".py",
   "mimetype": "text/x-python",
   "name": "python",
   "nbconvert_exporter": "python",
   "pygments_lexer": "ipython3",
   "version": "3.11.0"
  }
 },
 "nbformat": 4,
 "nbformat_minor": 5
}
