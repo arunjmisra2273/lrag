{
 "cells": [
  {
   "cell_type": "markdown",
   "id": "45bda4d1",
   "metadata": {},
   "source": [
    "RAG ONE SINGLE DOCUMENT - Load and Split"
   ]
  },
  {
   "cell_type": "code",
   "execution_count": 4,
   "id": "d11b8d07",
   "metadata": {},
   "outputs": [],
   "source": [
    "# Import Dependencies\n",
    "import os\n",
    "from langchain_community.document_loaders import PyPDFLoader, Docx2txtLoader\n",
    "from langchain_text_splitters import RecursiveCharacterTextSplitter\n",
    "from langchain_openai import OpenAIEmbeddings\n",
    "from langchain_core.documents import Document\n",
    "from typing import List"
   ]
  },
  {
   "cell_type": "code",
   "execution_count": 5,
   "id": "ce5d4545",
   "metadata": {},
   "outputs": [],
   "source": [
    "# Text Splitter\n",
    "text_splitter = RecursiveCharacterTextSplitter(\n",
    "    chunk_size=1000,\n",
    "    chunk_overlap=200,\n",
    "    length_function=len,\n",
    ")"
   ]
  },
  {
   "cell_type": "code",
   "execution_count": 9,
   "id": "41e2ad89",
   "metadata": {},
   "outputs": [],
   "source": [
    "# Load a docx file\n",
    "docx_loader = Docx2txtLoader(r\"D:\\\\lrag\\\\docs\\\\GreenEarth_Biotech_Extended.docx\")\n",
    "documents = docx_loader.load()"
   ]
  },
  {
   "cell_type": "code",
   "execution_count": 10,
   "id": "f067740a",
   "metadata": {},
   "outputs": [
    {
     "name": "stdout",
     "output_type": "stream",
     "text": [
      "Number of splits: 2\n"
     ]
    }
   ],
   "source": [
    "# split the documents into smaller chunks\n",
    "splits = text_splitter.split_documents(documents)\n",
    "print(f\"Number of splits: {len(splits)}\")"
   ]
  },
  {
   "cell_type": "code",
   "execution_count": 11,
   "id": "7b3fe2ca",
   "metadata": {},
   "outputs": [
    {
     "data": {
      "text/plain": [
       "Document(metadata={'source': 'D:\\\\\\\\lrag\\\\\\\\docs\\\\\\\\GreenEarth_Biotech_Extended.docx'}, page_content='GreenEarth Biotech\\n\\nIndustry: Biotechnology & Environmental Solutions\\n\\nLocation: Munich, Germany\\n\\nAbout Us\\n\\nGreenEarth Biotech pioneers eco-friendly innovations in bioengineering. With a core focus on sustainable agriculture and environmental cleanup, the company is committed to combating climate change using biotechnology. (Detail level 1)\\n\\nGreenEarth Biotech pioneers eco-friendly innovations in bioengineering. With a core focus on sustainable agriculture and environmental cleanup, the company is committed to combating climate change using biotechnology. (Detail level 2)\\n\\nGreenEarth Biotech pioneers eco-friendly innovations in bioengineering. With a core focus on sustainable agriculture and environmental cleanup, the company is committed to combating climate change using biotechnology. (Detail level 3)\\n\\nGreenEarth Biotech pioneers eco-friendly innovations in bioengineering. With a core focus on sustainable agriculture and environmental cleanup, the company is committed to combating climate change using biotechnology. (Detail level 4)\\n\\nOur Services\\n\\n- Bioremediation (Detail level 1)\\n\\nBioremediation (Detail level 2)\\n\\n- Genetic Engineering for Agriculture (Detail level 1)\\n\\nGenetic Engineering for Agriculture (Detail level 2)\\n\\n- Eco Product R&D (Detail level 1)\\n\\nEco Product R&D (Detail level 2)\\n\\nMission Statement\\n\\nHarnessing biology to restore the Earth. (Detail level 1)\\n\\nHarnessing biology to restore the Earth. (Detail level 2)\\n\\nHarnessing biology to restore the Earth. (Detail level 3)\\n\\nKey Clients\\n\\n- AgriWorld (Detail level 1)\\n\\nAgriWorld (Detail level 2)\\n\\n- EuroEnviro (Detail level 1)\\n\\nEuroEnviro (Detail level 2)\\n\\n- BioGrow Technologies (Detail level 1)\\n\\nBioGrow Technologies (Detail level 2)')"
      ]
     },
     "execution_count": 11,
     "metadata": {},
     "output_type": "execute_result"
    }
   ],
   "source": [
    "documents[0]"
   ]
  },
  {
   "cell_type": "code",
   "execution_count": 12,
   "id": "4ac9d94e",
   "metadata": {},
   "outputs": [
    {
     "data": {
      "text/plain": [
       "Document(metadata={'source': 'D:\\\\\\\\lrag\\\\\\\\docs\\\\\\\\GreenEarth_Biotech_Extended.docx'}, page_content='GreenEarth Biotech\\n\\nIndustry: Biotechnology & Environmental Solutions\\n\\nLocation: Munich, Germany\\n\\nAbout Us\\n\\nGreenEarth Biotech pioneers eco-friendly innovations in bioengineering. With a core focus on sustainable agriculture and environmental cleanup, the company is committed to combating climate change using biotechnology. (Detail level 1)\\n\\nGreenEarth Biotech pioneers eco-friendly innovations in bioengineering. With a core focus on sustainable agriculture and environmental cleanup, the company is committed to combating climate change using biotechnology. (Detail level 2)\\n\\nGreenEarth Biotech pioneers eco-friendly innovations in bioengineering. With a core focus on sustainable agriculture and environmental cleanup, the company is committed to combating climate change using biotechnology. (Detail level 3)')"
      ]
     },
     "execution_count": 12,
     "metadata": {},
     "output_type": "execute_result"
    }
   ],
   "source": [
    "splits[0]"
   ]
  },
  {
   "cell_type": "code",
   "execution_count": 14,
   "id": "b4ba1620",
   "metadata": {},
   "outputs": [
    {
     "data": {
      "text/plain": [
       "{'source': 'D:\\\\\\\\lrag\\\\\\\\docs\\\\\\\\GreenEarth_Biotech_Extended.docx'}"
      ]
     },
     "execution_count": 14,
     "metadata": {},
     "output_type": "execute_result"
    }
   ],
   "source": [
    "splits[0].metadata"
   ]
  },
  {
   "cell_type": "code",
   "execution_count": 15,
   "id": "069ea87a",
   "metadata": {},
   "outputs": [
    {
     "data": {
      "text/plain": [
       "'GreenEarth Biotech\\n\\nIndustry: Biotechnology & Environmental Solutions\\n\\nLocation: Munich, Germany\\n\\nAbout Us\\n\\nGreenEarth Biotech pioneers eco-friendly innovations in bioengineering. With a core focus on sustainable agriculture and environmental cleanup, the company is committed to combating climate change using biotechnology. (Detail level 1)\\n\\nGreenEarth Biotech pioneers eco-friendly innovations in bioengineering. With a core focus on sustainable agriculture and environmental cleanup, the company is committed to combating climate change using biotechnology. (Detail level 2)\\n\\nGreenEarth Biotech pioneers eco-friendly innovations in bioengineering. With a core focus on sustainable agriculture and environmental cleanup, the company is committed to combating climate change using biotechnology. (Detail level 3)'"
      ]
     },
     "execution_count": 15,
     "metadata": {},
     "output_type": "execute_result"
    }
   ],
   "source": [
    "splits[0].page_content"
   ]
  },
  {
   "cell_type": "code",
   "execution_count": 13,
   "id": "568603f6",
   "metadata": {},
   "outputs": [
    {
     "data": {
      "text/plain": [
       "Document(metadata={'source': 'D:\\\\\\\\lrag\\\\\\\\docs\\\\\\\\GreenEarth_Biotech_Extended.docx'}, page_content='GreenEarth Biotech pioneers eco-friendly innovations in bioengineering. With a core focus on sustainable agriculture and environmental cleanup, the company is committed to combating climate change using biotechnology. (Detail level 4)\\n\\nOur Services\\n\\n- Bioremediation (Detail level 1)\\n\\nBioremediation (Detail level 2)\\n\\n- Genetic Engineering for Agriculture (Detail level 1)\\n\\nGenetic Engineering for Agriculture (Detail level 2)\\n\\n- Eco Product R&D (Detail level 1)\\n\\nEco Product R&D (Detail level 2)\\n\\nMission Statement\\n\\nHarnessing biology to restore the Earth. (Detail level 1)\\n\\nHarnessing biology to restore the Earth. (Detail level 2)\\n\\nHarnessing biology to restore the Earth. (Detail level 3)\\n\\nKey Clients\\n\\n- AgriWorld (Detail level 1)\\n\\nAgriWorld (Detail level 2)\\n\\n- EuroEnviro (Detail level 1)\\n\\nEuroEnviro (Detail level 2)\\n\\n- BioGrow Technologies (Detail level 1)\\n\\nBioGrow Technologies (Detail level 2)')"
      ]
     },
     "execution_count": 13,
     "metadata": {},
     "output_type": "execute_result"
    }
   ],
   "source": [
    "splits[1]"
   ]
  }
 ],
 "metadata": {
  "kernelspec": {
   "display_name": "venv",
   "language": "python",
   "name": "python3"
  },
  "language_info": {
   "codemirror_mode": {
    "name": "ipython",
    "version": 3
   },
   "file_extension": ".py",
   "mimetype": "text/x-python",
   "name": "python",
   "nbconvert_exporter": "python",
   "pygments_lexer": "ipython3",
   "version": "3.11.0"
  }
 },
 "nbformat": 4,
 "nbformat_minor": 5
}
